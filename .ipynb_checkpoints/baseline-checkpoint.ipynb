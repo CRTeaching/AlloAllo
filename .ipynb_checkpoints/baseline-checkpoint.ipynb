{
 "cells": [
  {
   "cell_type": "code",
   "execution_count": 2,
   "metadata": {},
   "outputs": [],
   "source": [
    "%reload_ext autoreload\n",
    "%autoreload 2\n",
    "import numpy as np\n",
    "import pandas as pd\n",
    "from sklearn.model_selection import train_test_split\n",
    "from sklearn.pipeline import Pipeline\n",
    "from sklearn.feature_extraction.text import CountVectorizer\n",
    "from sklearn.feature_extraction.text import TfidfTransformer\n",
    "from sklearn.naive_bayes import MultinomialNB\n",
    "from sklearn.model_selection import GridSearchCV\n",
    "\n",
    "import methods as mt\n",
    "\n",
    "pd.set_option('display.max_colwidth', 1000)"
   ]
  },
  {
   "cell_type": "markdown",
   "metadata": {},
   "source": [
    "# Tests\n",
    "This next section is inteded for testing the methods that are implemented"
   ]
  },
  {
   "cell_type": "code",
   "execution_count": null,
   "metadata": {
    "scrolled": true
   },
   "outputs": [],
   "source": [
    "mt.test()"
   ]
  },
  {
   "cell_type": "markdown",
   "metadata": {},
   "source": [
    "# load data\n",
    "Data has been manually stripped of movies from data with more than one genre also \"tv movies, history and foreign\" genres have been removed in excel as to generic or not many movies of that cotogory"
   ]
  },
  {
   "cell_type": "code",
   "execution_count": 4,
   "metadata": {
    "scrolled": true
   },
   "outputs": [
    {
     "name": "stdout",
     "output_type": "stream",
     "text": [
      "What is the title (or index) of the column containing label data?name\n",
      "What is the title (or index) of the column containing the test data?overview\n"
     ]
    },
    {
     "data": {
      "text/html": [
       "<div>\n",
       "<style scoped>\n",
       "    .dataframe tbody tr th:only-of-type {\n",
       "        vertical-align: middle;\n",
       "    }\n",
       "\n",
       "    .dataframe tbody tr th {\n",
       "        vertical-align: top;\n",
       "    }\n",
       "\n",
       "    .dataframe thead th {\n",
       "        text-align: right;\n",
       "    }\n",
       "</style>\n",
       "<table border=\"1\" class=\"dataframe\">\n",
       "  <thead>\n",
       "    <tr style=\"text-align: right;\">\n",
       "      <th></th>\n",
       "      <th>adult</th>\n",
       "      <th>belongs_to_collection</th>\n",
       "      <th>budget</th>\n",
       "      <th>genres</th>\n",
       "      <th>homepage</th>\n",
       "      <th>id</th>\n",
       "      <th>imdb_id</th>\n",
       "      <th>original_language</th>\n",
       "      <th>original_title</th>\n",
       "      <th>overview</th>\n",
       "      <th>...</th>\n",
       "      <th>release_date</th>\n",
       "      <th>revenue</th>\n",
       "      <th>runtime</th>\n",
       "      <th>spoken_languages</th>\n",
       "      <th>status</th>\n",
       "      <th>tagline</th>\n",
       "      <th>title</th>\n",
       "      <th>video</th>\n",
       "      <th>vote_average</th>\n",
       "      <th>vote_count</th>\n",
       "    </tr>\n",
       "  </thead>\n",
       "  <tbody>\n",
       "    <tr>\n",
       "      <th>0</th>\n",
       "      <td>False</td>\n",
       "      <td>{'id': 96871, 'name': 'Father of the Bride Collection', 'poster_path': '/nts4iOmNnq7GNicycMJ9pSAn204.jpg', 'backdrop_path': '/7qwE57OVZmMJChBpLEbJEmzUydk.jpg'}</td>\n",
       "      <td>0</td>\n",
       "      <td>[{'id': 35, 'name': 'Comedy'}]</td>\n",
       "      <td>NaN</td>\n",
       "      <td>11862</td>\n",
       "      <td>tt0113041</td>\n",
       "      <td>en</td>\n",
       "      <td>Father of the Bride Part II</td>\n",
       "      <td>Just when George Banks has recovered from his daughter's wedding, he receives the news that she's pregnant ... and that George's wife, Nina, is expecting too. He was planning on selling their home, but that's a plan that -- like George -- will have to change with the arrival of both a grandchild and a kid of his own.</td>\n",
       "      <td>...</td>\n",
       "      <td>10/02/1995</td>\n",
       "      <td>76578911</td>\n",
       "      <td>106.0</td>\n",
       "      <td>[{'iso_639_1': 'en', 'name': 'English'}]</td>\n",
       "      <td>Released</td>\n",
       "      <td>Just When His World Is Back To Normal... He's In For The Surprise Of His Life!</td>\n",
       "      <td>Father of the Bride Part II</td>\n",
       "      <td>False</td>\n",
       "      <td>5.7</td>\n",
       "      <td>173</td>\n",
       "    </tr>\n",
       "    <tr>\n",
       "      <th>1</th>\n",
       "      <td>False</td>\n",
       "      <td>NaN</td>\n",
       "      <td>0</td>\n",
       "      <td>[{'id': 18, 'name': 'Drama'}]</td>\n",
       "      <td>NaN</td>\n",
       "      <td>16420</td>\n",
       "      <td>tt0114057</td>\n",
       "      <td>en</td>\n",
       "      <td>Othello</td>\n",
       "      <td>The evil Iago pretends to be friend of Othello in order to manipulate him to serve his own end in the film version of this Shakespeare classic.</td>\n",
       "      <td>...</td>\n",
       "      <td>15/12/1995</td>\n",
       "      <td>0</td>\n",
       "      <td>123.0</td>\n",
       "      <td>[{'iso_639_1': 'en', 'name': 'English'}]</td>\n",
       "      <td>Released</td>\n",
       "      <td>Envy, greed, jealousy and love.</td>\n",
       "      <td>Othello</td>\n",
       "      <td>False</td>\n",
       "      <td>7.0</td>\n",
       "      <td>33</td>\n",
       "    </tr>\n",
       "    <tr>\n",
       "      <th>2</th>\n",
       "      <td>False</td>\n",
       "      <td>NaN</td>\n",
       "      <td>11000000</td>\n",
       "      <td>[{'id': 18, 'name': 'Drama'}]</td>\n",
       "      <td>NaN</td>\n",
       "      <td>687</td>\n",
       "      <td>tt0112818</td>\n",
       "      <td>en</td>\n",
       "      <td>Dead Man Walking</td>\n",
       "      <td>A justice drama based on a true story about a man on death row who in his last days forms a strong relationship with a nun who teaches him forgiveness and gives him spirituality as she accompanies him to his execution. Susan Sarandon won an Oscar for best female actress for her convincing portrayal of Sister Helen Prejean.</td>\n",
       "      <td>...</td>\n",
       "      <td>29/12/1995</td>\n",
       "      <td>39363635</td>\n",
       "      <td>122.0</td>\n",
       "      <td>[{'iso_639_1': 'en', 'name': 'English'}]</td>\n",
       "      <td>Released</td>\n",
       "      <td>NaN</td>\n",
       "      <td>Dead Man Walking</td>\n",
       "      <td>False</td>\n",
       "      <td>7.3</td>\n",
       "      <td>350</td>\n",
       "    </tr>\n",
       "    <tr>\n",
       "      <th>3</th>\n",
       "      <td>False</td>\n",
       "      <td>NaN</td>\n",
       "      <td>0</td>\n",
       "      <td>[{'id': 18, 'name': 'Drama'}]</td>\n",
       "      <td>NaN</td>\n",
       "      <td>34615</td>\n",
       "      <td>tt0112749</td>\n",
       "      <td>en</td>\n",
       "      <td>Cry, the Beloved Country</td>\n",
       "      <td>A South-African preacher goes to search for his wayward son who has committed a crime in the big city.</td>\n",
       "      <td>...</td>\n",
       "      <td>15/12/1995</td>\n",
       "      <td>676525</td>\n",
       "      <td>106.0</td>\n",
       "      <td>[{'iso_639_1': 'en', 'name': 'English'}]</td>\n",
       "      <td>Released</td>\n",
       "      <td>NaN</td>\n",
       "      <td>Cry, the Beloved Country</td>\n",
       "      <td>False</td>\n",
       "      <td>6.7</td>\n",
       "      <td>13</td>\n",
       "    </tr>\n",
       "    <tr>\n",
       "      <th>4</th>\n",
       "      <td>False</td>\n",
       "      <td>NaN</td>\n",
       "      <td>0</td>\n",
       "      <td>[{'id': 18, 'name': 'Drama'}]</td>\n",
       "      <td>NaN</td>\n",
       "      <td>97406</td>\n",
       "      <td>tt0113158</td>\n",
       "      <td>en</td>\n",
       "      <td>Georgia</td>\n",
       "      <td>Sadie looks up to her older sister Georgia, a successful folk singer who's happily married with children, but can't break out of the bar-band circuit and hit the big time she desperately covets. It's in part due to her attraction to drugs and booze, and also to her own unwise choice in men. Finally, though, Sadie's Achilles heel is a rough, unlovely voice very different than her sister's crowd-pleasing singing.</td>\n",
       "      <td>...</td>\n",
       "      <td>19/05/1995</td>\n",
       "      <td>0</td>\n",
       "      <td>115.0</td>\n",
       "      <td>[{'iso_639_1': 'en', 'name': 'English'}]</td>\n",
       "      <td>Released</td>\n",
       "      <td>The toughest act to follow was their dreams.</td>\n",
       "      <td>Georgia</td>\n",
       "      <td>False</td>\n",
       "      <td>6.1</td>\n",
       "      <td>15</td>\n",
       "    </tr>\n",
       "  </tbody>\n",
       "</table>\n",
       "<p>5 rows × 24 columns</p>\n",
       "</div>"
      ],
      "text/plain": [
       "   adult  \\\n",
       "0  False   \n",
       "1  False   \n",
       "2  False   \n",
       "3  False   \n",
       "4  False   \n",
       "\n",
       "                                                                                                                                             belongs_to_collection  \\\n",
       "0  {'id': 96871, 'name': 'Father of the Bride Collection', 'poster_path': '/nts4iOmNnq7GNicycMJ9pSAn204.jpg', 'backdrop_path': '/7qwE57OVZmMJChBpLEbJEmzUydk.jpg'}   \n",
       "1                                                                                                                                                              NaN   \n",
       "2                                                                                                                                                              NaN   \n",
       "3                                                                                                                                                              NaN   \n",
       "4                                                                                                                                                              NaN   \n",
       "\n",
       "     budget                          genres homepage     id    imdb_id  \\\n",
       "0         0  [{'id': 35, 'name': 'Comedy'}]      NaN  11862  tt0113041   \n",
       "1         0   [{'id': 18, 'name': 'Drama'}]      NaN  16420  tt0114057   \n",
       "2  11000000   [{'id': 18, 'name': 'Drama'}]      NaN    687  tt0112818   \n",
       "3         0   [{'id': 18, 'name': 'Drama'}]      NaN  34615  tt0112749   \n",
       "4         0   [{'id': 18, 'name': 'Drama'}]      NaN  97406  tt0113158   \n",
       "\n",
       "  original_language               original_title  \\\n",
       "0                en  Father of the Bride Part II   \n",
       "1                en                      Othello   \n",
       "2                en             Dead Man Walking   \n",
       "3                en     Cry, the Beloved Country   \n",
       "4                en                      Georgia   \n",
       "\n",
       "                                                                                                                                                                                                                                                                                                                                                                                                                         overview  \\\n",
       "0                                                                                                  Just when George Banks has recovered from his daughter's wedding, he receives the news that she's pregnant ... and that George's wife, Nina, is expecting too. He was planning on selling their home, but that's a plan that -- like George -- will have to change with the arrival of both a grandchild and a kid of his own.   \n",
       "1                                                                                                                                                                                                                                                                                 The evil Iago pretends to be friend of Othello in order to manipulate him to serve his own end in the film version of this Shakespeare classic.   \n",
       "2                                                                                            A justice drama based on a true story about a man on death row who in his last days forms a strong relationship with a nun who teaches him forgiveness and gives him spirituality as she accompanies him to his execution. Susan Sarandon won an Oscar for best female actress for her convincing portrayal of Sister Helen Prejean.   \n",
       "3                                                                                                                                                                                                                                                                                                                          A South-African preacher goes to search for his wayward son who has committed a crime in the big city.   \n",
       "4  Sadie looks up to her older sister Georgia, a successful folk singer who's happily married with children, but can't break out of the bar-band circuit and hit the big time she desperately covets. It's in part due to her attraction to drugs and booze, and also to her own unwise choice in men. Finally, though, Sadie's Achilles heel is a rough, unlovely voice very different than her sister's crowd-pleasing singing.   \n",
       "\n",
       "   ...  release_date   revenue runtime  \\\n",
       "0  ...    10/02/1995  76578911   106.0   \n",
       "1  ...    15/12/1995         0   123.0   \n",
       "2  ...    29/12/1995  39363635   122.0   \n",
       "3  ...    15/12/1995    676525   106.0   \n",
       "4  ...    19/05/1995         0   115.0   \n",
       "\n",
       "                           spoken_languages    status  \\\n",
       "0  [{'iso_639_1': 'en', 'name': 'English'}]  Released   \n",
       "1  [{'iso_639_1': 'en', 'name': 'English'}]  Released   \n",
       "2  [{'iso_639_1': 'en', 'name': 'English'}]  Released   \n",
       "3  [{'iso_639_1': 'en', 'name': 'English'}]  Released   \n",
       "4  [{'iso_639_1': 'en', 'name': 'English'}]  Released   \n",
       "\n",
       "                                                                          tagline  \\\n",
       "0  Just When His World Is Back To Normal... He's In For The Surprise Of His Life!   \n",
       "1                                                 Envy, greed, jealousy and love.   \n",
       "2                                                                             NaN   \n",
       "3                                                                             NaN   \n",
       "4                                    The toughest act to follow was their dreams.   \n",
       "\n",
       "                         title  video vote_average vote_count  \n",
       "0  Father of the Bride Part II  False          5.7        173  \n",
       "1                      Othello  False          7.0         33  \n",
       "2             Dead Man Walking  False          7.3        350  \n",
       "3     Cry, the Beloved Country  False          6.7         13  \n",
       "4                      Georgia  False          6.1         15  \n",
       "\n",
       "[5 rows x 24 columns]"
      ]
     },
     "execution_count": 4,
     "metadata": {},
     "output_type": "execute_result"
    }
   ],
   "source": [
    "df_movies = mt.load(\"Data/baselineMovies.csv\")\n",
    "df_movies.head()"
   ]
  },
  {
   "cell_type": "markdown",
   "metadata": {},
   "source": [
    "Remove rows (and return dataframe) that have null in the overview column and extract the genre form the genres column"
   ]
  },
  {
   "cell_type": "code",
   "execution_count": 4,
   "metadata": {
    "scrolled": true
   },
   "outputs": [],
   "source": [
    "df_moviesclean = df_movies[pd.notnull(df_movies.overview)]\n",
    "y_genres = mt.strip(df_movies, \"name\")"
   ]
  },
  {
   "cell_type": "markdown",
   "metadata": {},
   "source": [
    "Split into train and test sets"
   ]
  },
  {
   "cell_type": "code",
   "execution_count": 5,
   "metadata": {},
   "outputs": [],
   "source": [
    "X_train, X_test, y_train, y_test = train_test_split(df_moviesclean.overview, y_genres, test_size=0.2, random_state = 0)"
   ]
  },
  {
   "cell_type": "markdown",
   "metadata": {},
   "source": [
    "Set up text pipeline"
   ]
  },
  {
   "cell_type": "code",
   "execution_count": 6,
   "metadata": {},
   "outputs": [],
   "source": [
    "text_pipe = Pipeline([\n",
    "    ('vect', CountVectorizer()),\n",
    "    ('tfidf', TfidfTransformer()),\n",
    "    ('clf', MultinomialNB()),\n",
    "])\n",
    "\n",
    "grid_params ={\n",
    "    'vect__stop_words': ('english', None),\n",
    "    'vect__strip_accents': ('ascii', 'unicode', None),\n",
    "    'tfidf__use_idf': (True, False),\n",
    "    'tfidf__smooth_idf': (True, False),\n",
    "    'tfidf__sublinear_tf': (True, False),\n",
    "    'tfidf__norm': ('l1', 'l2', None),\n",
    "    }\n",
    "\n",
    "search = GridSearchCV(text_pipe, grid_params)\n"
   ]
  },
  {
   "cell_type": "markdown",
   "metadata": {},
   "source": [
    "fit traing data and run test score via the gridsearch function"
   ]
  },
  {
   "cell_type": "code",
   "execution_count": 19,
   "metadata": {},
   "outputs": [
    {
     "name": "stdout",
     "output_type": "stream",
     "text": [
      "Searching for the best paramaters and fitting the data....This may take a few minutes\n"
     ]
    },
    {
     "name": "stderr",
     "output_type": "stream",
     "text": [
      "D:\\Anaconda\\lib\\site-packages\\sklearn\\model_selection\\_split.py:1978: FutureWarning: The default value of cv will change from 3 to 5 in version 0.22. Specify it explicitly to silence this warning.\n",
      "  warnings.warn(CV_WARNING, FutureWarning)\n"
     ]
    },
    {
     "name": "stdout",
     "output_type": "stream",
     "text": [
      "{'tfidf__norm': None, 'tfidf__smooth_idf': True, 'tfidf__sublinear_tf': True, 'tfidf__use_idf': True, 'vect__stop_words': None, 'vect__strip_accents': None}\n",
      "0.6380458919319023\n"
     ]
    }
   ],
   "source": [
    "\n",
    "trained_model = mt.search_and_fit(X_train, y_train, search)\n",
    "\n",
    "print(trained_model.best_params_)\n",
    "print(trained_model.score(X_test, y_test))\n",
    "\n",
    "\n"
   ]
  },
  {
   "cell_type": "code",
   "execution_count": null,
   "metadata": {},
   "outputs": [],
   "source": [
    "predict_text = [\"Two astronauts work together to survive after an accident leaves them stranded in space.\"]\n",
    "\n",
    "search.predict(predict_text)\n"
   ]
  },
  {
   "cell_type": "code",
   "execution_count": null,
   "metadata": {},
   "outputs": [],
   "source": []
  }
 ],
 "metadata": {
  "kernelspec": {
   "display_name": "Python 3",
   "language": "python",
   "name": "python3"
  },
  "language_info": {
   "codemirror_mode": {
    "name": "ipython",
    "version": 3
   },
   "file_extension": ".py",
   "mimetype": "text/x-python",
   "name": "python",
   "nbconvert_exporter": "python",
   "pygments_lexer": "ipython3",
   "version": "3.7.6"
  }
 },
 "nbformat": 4,
 "nbformat_minor": 4
}
